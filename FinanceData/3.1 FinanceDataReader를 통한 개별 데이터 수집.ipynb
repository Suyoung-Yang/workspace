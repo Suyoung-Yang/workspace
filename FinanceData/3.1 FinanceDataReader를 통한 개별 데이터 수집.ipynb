{
 "cells": [
  {
   "cell_type": "markdown",
   "metadata": {},
   "source": [
    "# 라이브러리 불러오기"
   ]
  },
  {
   "cell_type": "code",
   "execution_count": 138,
   "metadata": {},
   "outputs": [],
   "source": [
    "import pandas as pd"
   ]
  },
  {
   "cell_type": "code",
   "execution_count": 139,
   "metadata": {},
   "outputs": [],
   "source": [
    "# colab 을 사용한다면 런타임이 초기화 될때마다 다시 설치해 주어야 합니다.\n",
    "# 로컬 컴퓨터에 설치했다면 이전에 설치된 라이브러리를 사용해 주시면 됩니다.\n",
    "# !pip install -U finance-datareader"
   ]
  },
  {
   "cell_type": "code",
   "execution_count": 140,
   "metadata": {},
   "outputs": [],
   "source": [
    "# FinanceDataReader 를 fdr 별칭으로 가져오기\n",
    "import FinanceDataReader as fdr"
   ]
  },
  {
   "cell_type": "markdown",
   "metadata": {},
   "source": [
    "# 개별 종목의 일별 시세 수집"
   ]
  },
  {
   "cell_type": "code",
   "execution_count": 141,
   "metadata": {},
   "outputs": [
    {
     "data": {
      "text/html": [
       "<div>\n",
       "<style scoped>\n",
       "    .dataframe tbody tr th:only-of-type {\n",
       "        vertical-align: middle;\n",
       "    }\n",
       "\n",
       "    .dataframe tbody tr th {\n",
       "        vertical-align: top;\n",
       "    }\n",
       "\n",
       "    .dataframe thead th {\n",
       "        text-align: right;\n",
       "    }\n",
       "</style>\n",
       "<table border=\"1\" class=\"dataframe\">\n",
       "  <thead>\n",
       "    <tr style=\"text-align: right;\">\n",
       "      <th></th>\n",
       "      <th>Open</th>\n",
       "      <th>High</th>\n",
       "      <th>Low</th>\n",
       "      <th>Close</th>\n",
       "      <th>Volume</th>\n",
       "      <th>Change</th>\n",
       "    </tr>\n",
       "    <tr>\n",
       "      <th>Date</th>\n",
       "      <th></th>\n",
       "      <th></th>\n",
       "      <th></th>\n",
       "      <th></th>\n",
       "      <th></th>\n",
       "      <th></th>\n",
       "    </tr>\n",
       "  </thead>\n",
       "  <tbody>\n",
       "    <tr>\n",
       "      <th>2021-01-04</th>\n",
       "      <td>81000</td>\n",
       "      <td>84400</td>\n",
       "      <td>80200</td>\n",
       "      <td>83000</td>\n",
       "      <td>38655276</td>\n",
       "      <td>0.024691</td>\n",
       "    </tr>\n",
       "    <tr>\n",
       "      <th>2021-01-05</th>\n",
       "      <td>81600</td>\n",
       "      <td>83900</td>\n",
       "      <td>81600</td>\n",
       "      <td>83900</td>\n",
       "      <td>35335669</td>\n",
       "      <td>0.010843</td>\n",
       "    </tr>\n",
       "    <tr>\n",
       "      <th>2021-01-06</th>\n",
       "      <td>83300</td>\n",
       "      <td>84500</td>\n",
       "      <td>82100</td>\n",
       "      <td>82200</td>\n",
       "      <td>42089013</td>\n",
       "      <td>-0.020262</td>\n",
       "    </tr>\n",
       "    <tr>\n",
       "      <th>2021-01-07</th>\n",
       "      <td>82800</td>\n",
       "      <td>84200</td>\n",
       "      <td>82700</td>\n",
       "      <td>82900</td>\n",
       "      <td>32644642</td>\n",
       "      <td>0.008516</td>\n",
       "    </tr>\n",
       "    <tr>\n",
       "      <th>2021-01-08</th>\n",
       "      <td>83300</td>\n",
       "      <td>90000</td>\n",
       "      <td>83000</td>\n",
       "      <td>88800</td>\n",
       "      <td>59013307</td>\n",
       "      <td>0.071170</td>\n",
       "    </tr>\n",
       "  </tbody>\n",
       "</table>\n",
       "</div>"
      ],
      "text/plain": [
       "             Open   High    Low  Close    Volume    Change\n",
       "Date                                                      \n",
       "2021-01-04  81000  84400  80200  83000  38655276  0.024691\n",
       "2021-01-05  81600  83900  81600  83900  35335669  0.010843\n",
       "2021-01-06  83300  84500  82100  82200  42089013 -0.020262\n",
       "2021-01-07  82800  84200  82700  82900  32644642  0.008516\n",
       "2021-01-08  83300  90000  83000  88800  59013307  0.071170"
      ]
     },
     "execution_count": 141,
     "metadata": {},
     "output_type": "execute_result"
    }
   ],
   "source": [
    "# 삼성전자, 2017년~현재 일별 시세 받아오기\n",
    "# 삼성전자의 종목 번호 '005930'\n",
    "df = fdr.DataReader(\"005930\",start=\"2021-01-01\",end=\"2022\")\n",
    "df.head()"
   ]
  },
  {
   "cell_type": "code",
   "execution_count": 142,
   "metadata": {
    "scrolled": true
   },
   "outputs": [
    {
     "data": {
      "text/plain": [
       "<AxesSubplot:xlabel='Date'>"
      ]
     },
     "execution_count": 142,
     "metadata": {},
     "output_type": "execute_result"
    },
    {
     "data": {
      "image/png": "[encoded data removed]",
      "text/plain": [
       "<Figure size 432x288 with 1 Axes>"
      ]
     },
     "metadata": {
      "needs_background": "light"
     },
     "output_type": "display_data"
    }
   ],
   "source": [
    "# 종가 시각화하기\n",
    "df[\"Close\"].plot(  )"
   ]
  },
  {
   "cell_type": "markdown",
   "metadata": {},
   "source": [
    "# 상장종목 목록 가져오기"
   ]
  },
  {
   "cell_type": "code",
   "execution_count": 143,
   "metadata": {},
   "outputs": [
    {
     "data": {
      "text/plain": [
       "(6676, 10)"
      ]
     },
     "execution_count": 143,
     "metadata": {},
     "output_type": "execute_result"
    }
   ],
   "source": [
    "# 데이터가 없을 경우: fdr.StockListing('KRX')\n",
    "df_krx = pd.read_csv(\"krx.csv\")\n",
    "df_krx.shape"
   ]
  },
  {
   "cell_type": "code",
   "execution_count": 144,
   "metadata": {},
   "outputs": [
    {
     "data": {
      "text/html": [
       "<div>\n",
       "<style scoped>\n",
       "    .dataframe tbody tr th:only-of-type {\n",
       "        vertical-align: middle;\n",
       "    }\n",
       "\n",
       "    .dataframe tbody tr th {\n",
       "        vertical-align: top;\n",
       "    }\n",
       "\n",
       "    .dataframe thead th {\n",
       "        text-align: right;\n",
       "    }\n",
       "</style>\n",
       "<table border=\"1\" class=\"dataframe\">\n",
       "  <thead>\n",
       "    <tr style=\"text-align: right;\">\n",
       "      <th></th>\n",
       "      <th>Symbol</th>\n",
       "      <th>Name</th>\n",
       "    </tr>\n",
       "  </thead>\n",
       "  <tbody>\n",
       "    <tr>\n",
       "      <th>0</th>\n",
       "      <td>060310</td>\n",
       "      <td>3S</td>\n",
       "    </tr>\n",
       "    <tr>\n",
       "      <th>1</th>\n",
       "      <td>095570</td>\n",
       "      <td>AJ네트웍스</td>\n",
       "    </tr>\n",
       "    <tr>\n",
       "      <th>2</th>\n",
       "      <td>006840</td>\n",
       "      <td>AK홀딩스</td>\n",
       "    </tr>\n",
       "    <tr>\n",
       "      <th>3</th>\n",
       "      <td>054620</td>\n",
       "      <td>APS홀딩스</td>\n",
       "    </tr>\n",
       "    <tr>\n",
       "      <th>4</th>\n",
       "      <td>265520</td>\n",
       "      <td>AP시스템</td>\n",
       "    </tr>\n",
       "    <tr>\n",
       "      <th>...</th>\n",
       "      <td>...</td>\n",
       "      <td>...</td>\n",
       "    </tr>\n",
       "    <tr>\n",
       "      <th>6671</th>\n",
       "      <td>000547</td>\n",
       "      <td>흥국화재2우B</td>\n",
       "    </tr>\n",
       "    <tr>\n",
       "      <th>6672</th>\n",
       "      <td>000545</td>\n",
       "      <td>흥국화재우</td>\n",
       "    </tr>\n",
       "    <tr>\n",
       "      <th>6673</th>\n",
       "      <td>003280</td>\n",
       "      <td>흥아해운</td>\n",
       "    </tr>\n",
       "    <tr>\n",
       "      <th>6674</th>\n",
       "      <td>037440</td>\n",
       "      <td>희림</td>\n",
       "    </tr>\n",
       "    <tr>\n",
       "      <th>6675</th>\n",
       "      <td>238490</td>\n",
       "      <td>힘스</td>\n",
       "    </tr>\n",
       "  </tbody>\n",
       "</table>\n",
       "<p>6676 rows × 2 columns</p>\n",
       "</div>"
      ],
      "text/plain": [
       "      Symbol     Name\n",
       "0     060310       3S\n",
       "1     095570   AJ네트웍스\n",
       "2     006840    AK홀딩스\n",
       "3     054620   APS홀딩스\n",
       "4     265520    AP시스템\n",
       "...      ...      ...\n",
       "6671  000547  흥국화재2우B\n",
       "6672  000545    흥국화재우\n",
       "6673  003280     흥아해운\n",
       "6674  037440       희림\n",
       "6675  238490       힘스\n",
       "\n",
       "[6676 rows x 2 columns]"
      ]
     },
     "execution_count": 144,
     "metadata": {},
     "output_type": "execute_result"
    }
   ],
   "source": [
    "# DataFrame 에 어떤 데이터가 들어있는 head()로 일부 데이터만 가져와 봅니다.\n",
    "df_krx[[\"Symbol\",\"Name\"]]"
   ]
  },
  {
   "cell_type": "code",
   "execution_count": 145,
   "metadata": {},
   "outputs": [
    {
     "data": {
      "text/plain": [
       "'003490'"
      ]
     },
     "execution_count": 145,
     "metadata": {},
     "output_type": "execute_result"
    }
   ],
   "source": [
    "# df_krx의 Name column 에서 '빅히트'에 해당하는 row를 전부 가져오는데 Name column만 가져와\n",
    "# list 형태로 index 번호는 빼고 ['빅히트'] 만 가져오게 되고 [0]을 통해 list에 있는 string만 가져오게 됩니다.\n",
    "# 빅히트 (series) -> ['빅히트'] (list) -> '빅히트' (string)\n",
    "item_name =\"대한항공\"\n",
    "\n",
    "df_krx[df_krx[\"Name\"] ==item_name][\"Symbol\"]\n",
    "df_krx.loc[df_krx[\"Name\"]==item_name,\"Symbol\"].tolist()[0]\n",
    "\n"
   ]
  },
  {
   "cell_type": "markdown",
   "metadata": {},
   "source": [
    "# 종목명으로 종목 코드를 받아오는 함수 만들기"
   ]
  },
  {
   "cell_type": "code",
   "execution_count": 146,
   "metadata": {},
   "outputs": [],
   "source": [
    "\n",
    "# 종목명으로 종목코드 받아오는 함수 만들기\n",
    "# df_krx의 Name column에서 같은 값이 있으면 \n",
    "# row의 Symbol column의 값을 list로 name_list에 저장하기\n",
    "# item_code_by_item_name 함수를 만듭니다.\n",
    "def item_code_by_item_name(item_name):\n",
    "    \"\"\"\n",
    "    종목명을 받아 종목코드를 찾아 반환하는 함수\n",
    "    \"\"\"\n",
    "    item_code_list = df_krx.loc[df_krx[\"Name\"]==item_name,\"Symbol\"].tolist()\n",
    "    if len(item_code_list) > 0:\n",
    "        return item_code_list[0]\n",
    "    else:\n",
    "        return False\n",
    "    "
   ]
  },
  {
   "cell_type": "code",
   "execution_count": 147,
   "metadata": {},
   "outputs": [
    {
     "data": {
      "text/plain": [
       "'003490'"
      ]
     },
     "execution_count": 147,
     "metadata": {},
     "output_type": "execute_result"
    }
   ],
   "source": [
    "item_code_by_item_name(item_name)"
   ]
  },
  {
   "cell_type": "code",
   "execution_count": 148,
   "metadata": {},
   "outputs": [
    {
     "data": {
      "text/plain": [
       "'035420'"
      ]
     },
     "execution_count": 148,
     "metadata": {},
     "output_type": "execute_result"
    }
   ],
   "source": [
    "# 네이버로 등록된 상장사는 없습니다.\n",
    "# 잘못 입력된 텍스트에 대해 예외처리를 하는지 확인합니다.\n",
    "item_code_by_item_name(\"네이버\")\n",
    "item_code_by_item_name(\"NAVER\")\n"
   ]
  },
  {
   "cell_type": "code",
   "execution_count": 149,
   "metadata": {},
   "outputs": [
    {
     "data": {
      "text/html": [
       "<div>\n",
       "<style scoped>\n",
       "    .dataframe tbody tr th:only-of-type {\n",
       "        vertical-align: middle;\n",
       "    }\n",
       "\n",
       "    .dataframe tbody tr th {\n",
       "        vertical-align: top;\n",
       "    }\n",
       "\n",
       "    .dataframe thead th {\n",
       "        text-align: right;\n",
       "    }\n",
       "</style>\n",
       "<table border=\"1\" class=\"dataframe\">\n",
       "  <thead>\n",
       "    <tr style=\"text-align: right;\">\n",
       "      <th></th>\n",
       "      <th>Open</th>\n",
       "      <th>High</th>\n",
       "      <th>Low</th>\n",
       "      <th>Close</th>\n",
       "      <th>Volume</th>\n",
       "      <th>Change</th>\n",
       "    </tr>\n",
       "    <tr>\n",
       "      <th>Date</th>\n",
       "      <th></th>\n",
       "      <th></th>\n",
       "      <th></th>\n",
       "      <th></th>\n",
       "      <th></th>\n",
       "      <th></th>\n",
       "    </tr>\n",
       "  </thead>\n",
       "  <tbody>\n",
       "    <tr>\n",
       "      <th>1997-02-12</th>\n",
       "      <td>9251</td>\n",
       "      <td>9438</td>\n",
       "      <td>9251</td>\n",
       "      <td>9314</td>\n",
       "      <td>52690</td>\n",
       "      <td>NaN</td>\n",
       "    </tr>\n",
       "    <tr>\n",
       "      <th>1997-02-13</th>\n",
       "      <td>9312</td>\n",
       "      <td>9563</td>\n",
       "      <td>9250</td>\n",
       "      <td>9377</td>\n",
       "      <td>100450</td>\n",
       "      <td>0.006764</td>\n",
       "    </tr>\n",
       "    <tr>\n",
       "      <th>1997-02-14</th>\n",
       "      <td>9375</td>\n",
       "      <td>9812</td>\n",
       "      <td>9375</td>\n",
       "      <td>9563</td>\n",
       "      <td>46920</td>\n",
       "      <td>0.019836</td>\n",
       "    </tr>\n",
       "    <tr>\n",
       "      <th>1997-02-15</th>\n",
       "      <td>9563</td>\n",
       "      <td>9625</td>\n",
       "      <td>9500</td>\n",
       "      <td>9563</td>\n",
       "      <td>17770</td>\n",
       "      <td>0.000000</td>\n",
       "    </tr>\n",
       "    <tr>\n",
       "      <th>1997-02-17</th>\n",
       "      <td>9499</td>\n",
       "      <td>9499</td>\n",
       "      <td>9312</td>\n",
       "      <td>9501</td>\n",
       "      <td>22180</td>\n",
       "      <td>-0.006483</td>\n",
       "    </tr>\n",
       "    <tr>\n",
       "      <th>...</th>\n",
       "      <td>...</td>\n",
       "      <td>...</td>\n",
       "      <td>...</td>\n",
       "      <td>...</td>\n",
       "      <td>...</td>\n",
       "      <td>...</td>\n",
       "    </tr>\n",
       "    <tr>\n",
       "      <th>2021-01-18</th>\n",
       "      <td>31600</td>\n",
       "      <td>31800</td>\n",
       "      <td>30150</td>\n",
       "      <td>30450</td>\n",
       "      <td>4329133</td>\n",
       "      <td>-0.052877</td>\n",
       "    </tr>\n",
       "    <tr>\n",
       "      <th>2021-01-19</th>\n",
       "      <td>30450</td>\n",
       "      <td>31850</td>\n",
       "      <td>30400</td>\n",
       "      <td>31700</td>\n",
       "      <td>3076678</td>\n",
       "      <td>0.041051</td>\n",
       "    </tr>\n",
       "    <tr>\n",
       "      <th>2021-01-20</th>\n",
       "      <td>32100</td>\n",
       "      <td>32300</td>\n",
       "      <td>31150</td>\n",
       "      <td>32050</td>\n",
       "      <td>2921124</td>\n",
       "      <td>0.011041</td>\n",
       "    </tr>\n",
       "    <tr>\n",
       "      <th>2021-01-21</th>\n",
       "      <td>31750</td>\n",
       "      <td>33300</td>\n",
       "      <td>31400</td>\n",
       "      <td>33050</td>\n",
       "      <td>3679028</td>\n",
       "      <td>0.031201</td>\n",
       "    </tr>\n",
       "    <tr>\n",
       "      <th>2021-01-22</th>\n",
       "      <td>33500</td>\n",
       "      <td>35200</td>\n",
       "      <td>32300</td>\n",
       "      <td>34950</td>\n",
       "      <td>11314178</td>\n",
       "      <td>0.057489</td>\n",
       "    </tr>\n",
       "  </tbody>\n",
       "</table>\n",
       "<p>6000 rows × 6 columns</p>\n",
       "</div>"
      ],
      "text/plain": [
       "             Open   High    Low  Close    Volume    Change\n",
       "Date                                                      \n",
       "1997-02-12   9251   9438   9251   9314     52690       NaN\n",
       "1997-02-13   9312   9563   9250   9377    100450  0.006764\n",
       "1997-02-14   9375   9812   9375   9563     46920  0.019836\n",
       "1997-02-15   9563   9625   9500   9563     17770  0.000000\n",
       "1997-02-17   9499   9499   9312   9501     22180 -0.006483\n",
       "...           ...    ...    ...    ...       ...       ...\n",
       "2021-01-18  31600  31800  30150  30450   4329133 -0.052877\n",
       "2021-01-19  30450  31850  30400  31700   3076678  0.041051\n",
       "2021-01-20  32100  32300  31150  32050   2921124  0.011041\n",
       "2021-01-21  31750  33300  31400  33050   3679028  0.031201\n",
       "2021-01-22  33500  35200  32300  34950  11314178  0.057489\n",
       "\n",
       "[6000 rows x 6 columns]"
      ]
     },
     "execution_count": 149,
     "metadata": {},
     "output_type": "execute_result"
    }
   ],
   "source": [
    "fdr.DataReader(item_code_by_item_name(item_name))"
   ]
  },
  {
   "cell_type": "markdown",
   "metadata": {},
   "source": [
    "# 종목명으로 일별시세를 받아오는 함수 만들기"
   ]
  },
  {
   "cell_type": "code",
   "execution_count": 150,
   "metadata": {},
   "outputs": [],
   "source": [
    "# item_code_by_item_name : 종목명으로 종목번호 가져오기\n",
    "# find_item_list : 종목번호로 해당연도 데이터 가져오기\n",
    "# find_item_list는 year 값이 없으면 기본으로 2020년 데이터를 선택\n",
    "\n",
    "def find_item_list(item_name,year=2020):\n",
    "    \"\"\"\n",
    "    종목명을 넘겨주면 일별시세를 반환하는 함수\n",
    "    내부에서 종목명으로 종목코드를 반환하는 함수(item_code_by_item_name)로\n",
    "    종목의 시세를 수집합니다.\n",
    "    \"\"\"\n",
    "    \n",
    "    item_code = item_code_by_item_name(item_name)\n",
    "    \n",
    "    if item_code:\n",
    "        df_day = fdr.DataReader(item_code,str(year))\n",
    "        return df_day\n",
    "    else:\n",
    "        return False\n",
    "\n",
    "\n"
   ]
  },
  {
   "cell_type": "code",
   "execution_count": 151,
   "metadata": {},
   "outputs": [
    {
     "data": {
      "text/html": [
       "<div>\n",
       "<style scoped>\n",
       "    .dataframe tbody tr th:only-of-type {\n",
       "        vertical-align: middle;\n",
       "    }\n",
       "\n",
       "    .dataframe tbody tr th {\n",
       "        vertical-align: top;\n",
       "    }\n",
       "\n",
       "    .dataframe thead th {\n",
       "        text-align: right;\n",
       "    }\n",
       "</style>\n",
       "<table border=\"1\" class=\"dataframe\">\n",
       "  <thead>\n",
       "    <tr style=\"text-align: right;\">\n",
       "      <th></th>\n",
       "      <th>Open</th>\n",
       "      <th>High</th>\n",
       "      <th>Low</th>\n",
       "      <th>Close</th>\n",
       "      <th>Volume</th>\n",
       "      <th>Change</th>\n",
       "    </tr>\n",
       "    <tr>\n",
       "      <th>Date</th>\n",
       "      <th></th>\n",
       "      <th></th>\n",
       "      <th></th>\n",
       "      <th></th>\n",
       "      <th></th>\n",
       "      <th></th>\n",
       "    </tr>\n",
       "  </thead>\n",
       "  <tbody>\n",
       "    <tr>\n",
       "      <th>2015-01-02</th>\n",
       "      <td>35660</td>\n",
       "      <td>36406</td>\n",
       "      <td>33681</td>\n",
       "      <td>33720</td>\n",
       "      <td>965216</td>\n",
       "      <td>-0.048479</td>\n",
       "    </tr>\n",
       "    <tr>\n",
       "      <th>2015-01-05</th>\n",
       "      <td>33979</td>\n",
       "      <td>34801</td>\n",
       "      <td>33046</td>\n",
       "      <td>34504</td>\n",
       "      <td>828646</td>\n",
       "      <td>0.023250</td>\n",
       "    </tr>\n",
       "    <tr>\n",
       "      <th>2015-01-06</th>\n",
       "      <td>34839</td>\n",
       "      <td>35511</td>\n",
       "      <td>34092</td>\n",
       "      <td>34093</td>\n",
       "      <td>861173</td>\n",
       "      <td>-0.011912</td>\n",
       "    </tr>\n",
       "    <tr>\n",
       "      <th>2015-01-07</th>\n",
       "      <td>32112</td>\n",
       "      <td>33346</td>\n",
       "      <td>30582</td>\n",
       "      <td>32487</td>\n",
       "      <td>2957691</td>\n",
       "      <td>-0.047106</td>\n",
       "    </tr>\n",
       "    <tr>\n",
       "      <th>2015-01-08</th>\n",
       "      <td>32560</td>\n",
       "      <td>33084</td>\n",
       "      <td>31739</td>\n",
       "      <td>32338</td>\n",
       "      <td>498732</td>\n",
       "      <td>-0.004586</td>\n",
       "    </tr>\n",
       "    <tr>\n",
       "      <th>...</th>\n",
       "      <td>...</td>\n",
       "      <td>...</td>\n",
       "      <td>...</td>\n",
       "      <td>...</td>\n",
       "      <td>...</td>\n",
       "      <td>...</td>\n",
       "    </tr>\n",
       "    <tr>\n",
       "      <th>2021-01-18</th>\n",
       "      <td>31600</td>\n",
       "      <td>31800</td>\n",
       "      <td>30150</td>\n",
       "      <td>30450</td>\n",
       "      <td>4329133</td>\n",
       "      <td>-0.052877</td>\n",
       "    </tr>\n",
       "    <tr>\n",
       "      <th>2021-01-19</th>\n",
       "      <td>30450</td>\n",
       "      <td>31850</td>\n",
       "      <td>30400</td>\n",
       "      <td>31700</td>\n",
       "      <td>3076678</td>\n",
       "      <td>0.041051</td>\n",
       "    </tr>\n",
       "    <tr>\n",
       "      <th>2021-01-20</th>\n",
       "      <td>32100</td>\n",
       "      <td>32300</td>\n",
       "      <td>31150</td>\n",
       "      <td>32050</td>\n",
       "      <td>2921124</td>\n",
       "      <td>0.011041</td>\n",
       "    </tr>\n",
       "    <tr>\n",
       "      <th>2021-01-21</th>\n",
       "      <td>31750</td>\n",
       "      <td>33300</td>\n",
       "      <td>31400</td>\n",
       "      <td>33050</td>\n",
       "      <td>3679028</td>\n",
       "      <td>0.031201</td>\n",
       "    </tr>\n",
       "    <tr>\n",
       "      <th>2021-01-22</th>\n",
       "      <td>33500</td>\n",
       "      <td>35200</td>\n",
       "      <td>32300</td>\n",
       "      <td>34950</td>\n",
       "      <td>11314178</td>\n",
       "      <td>0.057489</td>\n",
       "    </tr>\n",
       "  </tbody>\n",
       "</table>\n",
       "<p>1490 rows × 6 columns</p>\n",
       "</div>"
      ],
      "text/plain": [
       "             Open   High    Low  Close    Volume    Change\n",
       "Date                                                      \n",
       "2015-01-02  35660  36406  33681  33720    965216 -0.048479\n",
       "2015-01-05  33979  34801  33046  34504    828646  0.023250\n",
       "2015-01-06  34839  35511  34092  34093    861173 -0.011912\n",
       "2015-01-07  32112  33346  30582  32487   2957691 -0.047106\n",
       "2015-01-08  32560  33084  31739  32338    498732 -0.004586\n",
       "...           ...    ...    ...    ...       ...       ...\n",
       "2021-01-18  31600  31800  30150  30450   4329133 -0.052877\n",
       "2021-01-19  30450  31850  30400  31700   3076678  0.041051\n",
       "2021-01-20  32100  32300  31150  32050   2921124  0.011041\n",
       "2021-01-21  31750  33300  31400  33050   3679028  0.031201\n",
       "2021-01-22  33500  35200  32300  34950  11314178  0.057489\n",
       "\n",
       "[1490 rows x 6 columns]"
      ]
     },
     "execution_count": 151,
     "metadata": {},
     "output_type": "execute_result"
    }
   ],
   "source": [
    "# find_item_list(\"없는회사\")\n",
    "\n",
    "find_item_list(item_name,2015)\n"
   ]
  },
  {
   "cell_type": "markdown",
   "metadata": {},
   "source": [
    "## 종목명으로 일별 시세를 잘 가져오는지 확인하기"
   ]
  },
  {
   "cell_type": "code",
   "execution_count": 152,
   "metadata": {},
   "outputs": [
    {
     "data": {
      "text/html": [
       "<div>\n",
       "<style scoped>\n",
       "    .dataframe tbody tr th:only-of-type {\n",
       "        vertical-align: middle;\n",
       "    }\n",
       "\n",
       "    .dataframe tbody tr th {\n",
       "        vertical-align: top;\n",
       "    }\n",
       "\n",
       "    .dataframe thead th {\n",
       "        text-align: right;\n",
       "    }\n",
       "</style>\n",
       "<table border=\"1\" class=\"dataframe\">\n",
       "  <thead>\n",
       "    <tr style=\"text-align: right;\">\n",
       "      <th></th>\n",
       "      <th>Open</th>\n",
       "      <th>High</th>\n",
       "      <th>Low</th>\n",
       "      <th>Close</th>\n",
       "      <th>Volume</th>\n",
       "      <th>Change</th>\n",
       "    </tr>\n",
       "    <tr>\n",
       "      <th>Date</th>\n",
       "      <th></th>\n",
       "      <th></th>\n",
       "      <th></th>\n",
       "      <th></th>\n",
       "      <th></th>\n",
       "      <th></th>\n",
       "    </tr>\n",
       "  </thead>\n",
       "  <tbody>\n",
       "    <tr>\n",
       "      <th>2020-01-02</th>\n",
       "      <td>23832</td>\n",
       "      <td>23874</td>\n",
       "      <td>23205</td>\n",
       "      <td>23289</td>\n",
       "      <td>303459</td>\n",
       "      <td>-0.022825</td>\n",
       "    </tr>\n",
       "    <tr>\n",
       "      <th>2020-01-03</th>\n",
       "      <td>23414</td>\n",
       "      <td>23540</td>\n",
       "      <td>22787</td>\n",
       "      <td>22829</td>\n",
       "      <td>572272</td>\n",
       "      <td>-0.019752</td>\n",
       "    </tr>\n",
       "    <tr>\n",
       "      <th>2020-01-06</th>\n",
       "      <td>22453</td>\n",
       "      <td>22662</td>\n",
       "      <td>21742</td>\n",
       "      <td>22160</td>\n",
       "      <td>690224</td>\n",
       "      <td>-0.029305</td>\n",
       "    </tr>\n",
       "    <tr>\n",
       "      <th>2020-01-07</th>\n",
       "      <td>22160</td>\n",
       "      <td>22704</td>\n",
       "      <td>22076</td>\n",
       "      <td>22453</td>\n",
       "      <td>388103</td>\n",
       "      <td>0.013222</td>\n",
       "    </tr>\n",
       "    <tr>\n",
       "      <th>2020-01-08</th>\n",
       "      <td>22118</td>\n",
       "      <td>22327</td>\n",
       "      <td>21700</td>\n",
       "      <td>21993</td>\n",
       "      <td>676198</td>\n",
       "      <td>-0.020487</td>\n",
       "    </tr>\n",
       "    <tr>\n",
       "      <th>...</th>\n",
       "      <td>...</td>\n",
       "      <td>...</td>\n",
       "      <td>...</td>\n",
       "      <td>...</td>\n",
       "      <td>...</td>\n",
       "      <td>...</td>\n",
       "    </tr>\n",
       "    <tr>\n",
       "      <th>2021-01-18</th>\n",
       "      <td>31600</td>\n",
       "      <td>31800</td>\n",
       "      <td>30150</td>\n",
       "      <td>30450</td>\n",
       "      <td>4329133</td>\n",
       "      <td>-0.052877</td>\n",
       "    </tr>\n",
       "    <tr>\n",
       "      <th>2021-01-19</th>\n",
       "      <td>30450</td>\n",
       "      <td>31850</td>\n",
       "      <td>30400</td>\n",
       "      <td>31700</td>\n",
       "      <td>3076678</td>\n",
       "      <td>0.041051</td>\n",
       "    </tr>\n",
       "    <tr>\n",
       "      <th>2021-01-20</th>\n",
       "      <td>32100</td>\n",
       "      <td>32300</td>\n",
       "      <td>31150</td>\n",
       "      <td>32050</td>\n",
       "      <td>2921124</td>\n",
       "      <td>0.011041</td>\n",
       "    </tr>\n",
       "    <tr>\n",
       "      <th>2021-01-21</th>\n",
       "      <td>31750</td>\n",
       "      <td>33300</td>\n",
       "      <td>31400</td>\n",
       "      <td>33050</td>\n",
       "      <td>3679028</td>\n",
       "      <td>0.031201</td>\n",
       "    </tr>\n",
       "    <tr>\n",
       "      <th>2021-01-22</th>\n",
       "      <td>33500</td>\n",
       "      <td>35200</td>\n",
       "      <td>32300</td>\n",
       "      <td>34950</td>\n",
       "      <td>11314178</td>\n",
       "      <td>0.057489</td>\n",
       "    </tr>\n",
       "  </tbody>\n",
       "</table>\n",
       "<p>263 rows × 6 columns</p>\n",
       "</div>"
      ],
      "text/plain": [
       "             Open   High    Low  Close    Volume    Change\n",
       "Date                                                      \n",
       "2020-01-02  23832  23874  23205  23289    303459 -0.022825\n",
       "2020-01-03  23414  23540  22787  22829    572272 -0.019752\n",
       "2020-01-06  22453  22662  21742  22160    690224 -0.029305\n",
       "2020-01-07  22160  22704  22076  22453    388103  0.013222\n",
       "2020-01-08  22118  22327  21700  21993    676198 -0.020487\n",
       "...           ...    ...    ...    ...       ...       ...\n",
       "2021-01-18  31600  31800  30150  30450   4329133 -0.052877\n",
       "2021-01-19  30450  31850  30400  31700   3076678  0.041051\n",
       "2021-01-20  32100  32300  31150  32050   2921124  0.011041\n",
       "2021-01-21  31750  33300  31400  33050   3679028  0.031201\n",
       "2021-01-22  33500  35200  32300  34950  11314178  0.057489\n",
       "\n",
       "[263 rows x 6 columns]"
      ]
     },
     "execution_count": 152,
     "metadata": {},
     "output_type": "execute_result"
    }
   ],
   "source": [
    "item_name1 = \"LG화학\"\n",
    "item_name2 = \"빅히트\"\n",
    "\n",
    "# find_item_list(item_name1)\n",
    "stock_daily = find_item_list(item_name)\n",
    "stock_daily"
   ]
  },
  {
   "cell_type": "markdown",
   "metadata": {},
   "source": [
    "# 개별종목 시세 시각화"
   ]
  },
  {
   "cell_type": "code",
   "execution_count": 153,
   "metadata": {},
   "outputs": [],
   "source": [
    "# pandas 의 plot으로 시각화 하기"
   ]
  },
  {
   "cell_type": "code",
   "execution_count": 154,
   "metadata": {},
   "outputs": [
    {
     "data": {
      "text/plain": [
       "<AxesSubplot:xlabel='Date'>"
      ]
     },
     "execution_count": 154,
     "metadata": {},
     "output_type": "execute_result"
    },
    {
     "data": {
      "image/png": "[encoded data removed]",
      "text/plain": [
       "<Figure size 432x288 with 1 Axes>"
      ]
     },
     "metadata": {
      "needs_background": "light"
     },
     "output_type": "display_data"
    }
   ],
   "source": [
    "stock_daily[\"Close\"].plot()"
   ]
  },
  {
   "cell_type": "code",
   "execution_count": 155,
   "metadata": {},
   "outputs": [
    {
     "data": {
      "text/plain": [
       "<AxesSubplot:xlabel='Date'>"
      ]
     },
     "execution_count": 155,
     "metadata": {},
     "output_type": "execute_result"
    },
    {
     "data": {
      "image/png": "[encoded data removed]",
      "text/plain": [
       "<Figure size 432x288 with 1 Axes>"
      ]
     },
     "metadata": {
      "needs_background": "light"
     },
     "output_type": "display_data"
    }
   ],
   "source": [
    "# 전체 데이터프레임을 plot() 으로 시각화 하면 수치 데이터 전체를 선그래프로 그립니다.\n",
    "stock_daily.plot()"
   ]
  },
  {
   "cell_type": "markdown",
   "metadata": {},
   "source": [
    "## 서브플롯으로 그리기"
   ]
  },
  {
   "cell_type": "code",
   "execution_count": 156,
   "metadata": {},
   "outputs": [
    {
     "data": {
      "image/png": "[encoded data removed]",
      "text/plain": [
       "<Figure size 720x720 with 6 Axes>"
      ]
     },
     "metadata": {
      "needs_background": "light"
     },
     "output_type": "display_data"
    }
   ],
   "source": [
    "# 수집한 종목의 선그래프를 Pandas 로 그립니다.\n",
    "# 스케일이 다르기 때문에 subplots를 사용해 그려봅니다.\n",
    "\n",
    "g = stock_daily.plot(subplots=True,figsize = (10,10))"
   ]
  },
  {
   "cell_type": "code",
   "execution_count": 157,
   "metadata": {},
   "outputs": [
    {
     "data": {
      "image/png": "[encoded data removed]",
      "text/plain": [
       "<Figure size 720x576 with 6 Axes>"
      ]
     },
     "metadata": {
      "needs_background": "light"
     },
     "output_type": "display_data"
    }
   ],
   "source": [
    "h = stock_daily.hist(figsize=(10,8),bins=20)"
   ]
  },
  {
   "cell_type": "code",
   "execution_count": 158,
   "metadata": {},
   "outputs": [
    {
     "data": {
      "text/plain": [
       "<AxesSubplot:xlabel='Date'>"
      ]
     },
     "execution_count": 158,
     "metadata": {},
     "output_type": "execute_result"
    },
    {
     "data": {
      "image/png": "[encoded data removed]",
      "text/plain": [
       "<Figure size 432x288 with 2 Axes>"
      ]
     },
     "metadata": {
      "needs_background": "light"
     },
     "output_type": "display_data"
    }
   ],
   "source": [
    "#2축 그래프 그리기\n",
    "stock_daily[[\"Close\",\"Volume\"]].plot(secondary_y=\"Volume\")"
   ]
  },
  {
   "cell_type": "code",
   "execution_count": 159,
   "metadata": {},
   "outputs": [
    {
     "data": {
      "text/html": [
       "<div>\n",
       "<style scoped>\n",
       "    .dataframe tbody tr th:only-of-type {\n",
       "        vertical-align: middle;\n",
       "    }\n",
       "\n",
       "    .dataframe tbody tr th {\n",
       "        vertical-align: top;\n",
       "    }\n",
       "\n",
       "    .dataframe thead th {\n",
       "        text-align: right;\n",
       "    }\n",
       "</style>\n",
       "<table border=\"1\" class=\"dataframe\">\n",
       "  <thead>\n",
       "    <tr style=\"text-align: right;\">\n",
       "      <th></th>\n",
       "      <th>Open</th>\n",
       "      <th>High</th>\n",
       "      <th>Low</th>\n",
       "      <th>Close</th>\n",
       "      <th>Volume</th>\n",
       "      <th>Change</th>\n",
       "    </tr>\n",
       "  </thead>\n",
       "  <tbody>\n",
       "    <tr>\n",
       "      <th>count</th>\n",
       "      <td>263.000000</td>\n",
       "      <td>263.000000</td>\n",
       "      <td>263.000000</td>\n",
       "      <td>263.000000</td>\n",
       "      <td>2.630000e+02</td>\n",
       "      <td>263.000000</td>\n",
       "    </tr>\n",
       "    <tr>\n",
       "      <th>mean</th>\n",
       "      <td>20319.190114</td>\n",
       "      <td>20806.551331</td>\n",
       "      <td>19875.532319</td>\n",
       "      <td>20303.927757</td>\n",
       "      <td>2.921890e+06</td>\n",
       "      <td>0.002110</td>\n",
       "    </tr>\n",
       "    <tr>\n",
       "      <th>std</th>\n",
       "      <td>4070.401752</td>\n",
       "      <td>4225.844202</td>\n",
       "      <td>4000.079548</td>\n",
       "      <td>4130.887997</td>\n",
       "      <td>5.511416e+06</td>\n",
       "      <td>0.035821</td>\n",
       "    </tr>\n",
       "    <tr>\n",
       "      <th>min</th>\n",
       "      <td>11372.000000</td>\n",
       "      <td>12710.000000</td>\n",
       "      <td>10703.000000</td>\n",
       "      <td>11373.000000</td>\n",
       "      <td>2.693280e+05</td>\n",
       "      <td>-0.248613</td>\n",
       "    </tr>\n",
       "    <tr>\n",
       "      <th>25%</th>\n",
       "      <td>17650.000000</td>\n",
       "      <td>17900.000000</td>\n",
       "      <td>17250.000000</td>\n",
       "      <td>17509.500000</td>\n",
       "      <td>1.043335e+06</td>\n",
       "      <td>-0.018265</td>\n",
       "    </tr>\n",
       "    <tr>\n",
       "      <th>50%</th>\n",
       "      <td>19250.000000</td>\n",
       "      <td>19700.000000</td>\n",
       "      <td>18850.000000</td>\n",
       "      <td>19192.000000</td>\n",
       "      <td>1.497490e+06</td>\n",
       "      <td>0.002410</td>\n",
       "    </tr>\n",
       "    <tr>\n",
       "      <th>75%</th>\n",
       "      <td>22139.000000</td>\n",
       "      <td>22610.000000</td>\n",
       "      <td>21721.000000</td>\n",
       "      <td>22076.500000</td>\n",
       "      <td>2.884406e+06</td>\n",
       "      <td>0.019225</td>\n",
       "    </tr>\n",
       "    <tr>\n",
       "      <th>max</th>\n",
       "      <td>33600.000000</td>\n",
       "      <td>35400.000000</td>\n",
       "      <td>32300.000000</td>\n",
       "      <td>34950.000000</td>\n",
       "      <td>7.450910e+07</td>\n",
       "      <td>0.156649</td>\n",
       "    </tr>\n",
       "  </tbody>\n",
       "</table>\n",
       "</div>"
      ],
      "text/plain": [
       "               Open          High           Low         Close        Volume  \\\n",
       "count    263.000000    263.000000    263.000000    263.000000  2.630000e+02   \n",
       "mean   20319.190114  20806.551331  19875.532319  20303.927757  2.921890e+06   \n",
       "std     4070.401752   4225.844202   4000.079548   4130.887997  5.511416e+06   \n",
       "min    11372.000000  12710.000000  10703.000000  11373.000000  2.693280e+05   \n",
       "25%    17650.000000  17900.000000  17250.000000  17509.500000  1.043335e+06   \n",
       "50%    19250.000000  19700.000000  18850.000000  19192.000000  1.497490e+06   \n",
       "75%    22139.000000  22610.000000  21721.000000  22076.500000  2.884406e+06   \n",
       "max    33600.000000  35400.000000  32300.000000  34950.000000  7.450910e+07   \n",
       "\n",
       "           Change  \n",
       "count  263.000000  \n",
       "mean     0.002110  \n",
       "std      0.035821  \n",
       "min     -0.248613  \n",
       "25%     -0.018265  \n",
       "50%      0.002410  \n",
       "75%      0.019225  \n",
       "max      0.156649  "
      ]
     },
     "execution_count": 159,
     "metadata": {},
     "output_type": "execute_result"
    }
   ],
   "source": [
    "stock_daily.describe()"
   ]
  }
 ],
 "metadata": {
  "kernelspec": {
   "display_name": "Python 3",
   "language": "python",
   "name": "python3"
  },
  "language_info": {
   "codemirror_mode": {
    "name": "ipython",
    "version": 3
   },
   "file_extension": ".py",
   "mimetype": "text/x-python",
   "name": "python",
   "nbconvert_exporter": "python",
   "pygments_lexer": "ipython3",
   "version": "3.8.5"
  },
  "toc": {
   "base_numbering": 1,
   "nav_menu": {},
   "number_sections": true,
   "sideBar": true,
   "skip_h1_title": false,
   "title_cell": "Table of Contents",
   "title_sidebar": "Contents",
   "toc_cell": false,
   "toc_position": {},
   "toc_section_display": true,
   "toc_window_display": true
  }
 },
 "nbformat": 4,
 "nbformat_minor": 4
}
